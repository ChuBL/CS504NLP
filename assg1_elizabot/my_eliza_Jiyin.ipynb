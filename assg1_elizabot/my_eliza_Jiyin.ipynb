{
  "nbformat": 4,
  "nbformat_minor": 0,
  "metadata": {
    "colab": {
      "provenance": []
    },
    "kernelspec": {
      "name": "python3",
      "display_name": "Python 3"
    },
    "language_info": {
      "name": "python"
    }
  },
  "cells": [
    {
      "cell_type": "markdown",
      "source": [
        "## My Assignment"
      ],
      "metadata": {
        "id": "qGxMcBoG6nH7"
      }
    },
    {
      "cell_type": "markdown",
      "source": [
        "\n",
        "### Task 1-1: Increase the robustness\n",
        "\n",
        "Create a more robust chatbot by adding pre-processing steps (or whatever techniques that help), such as normalization spelling correction (https://pypi.org/project/pyspellchecker/), and cleaning, before you create the response. You might also need to modify the script (variable 'pairs') to make your chatbot support the normalized corpus.\n",
        "\n",
        "* The simplest way might be to derive a new class from the Chat class. The source code of the Chat class could be found in the NLTK documents."
      ],
      "metadata": {
        "id": "W5dzCeXaeyS2"
      }
    },
    {
      "cell_type": "code",
      "source": [
        "!pip install pyspellchecker"
      ],
      "metadata": {
        "colab": {
          "base_uri": "https://localhost:8080/"
        },
        "id": "DNHC__5goPES",
        "outputId": "7a3de271-1c56-4608-f51e-e61919afaaef"
      },
      "execution_count": null,
      "outputs": [
        {
          "output_type": "stream",
          "name": "stdout",
          "text": [
            "Collecting pyspellchecker\n",
            "  Downloading pyspellchecker-0.8.1-py3-none-any.whl (6.8 MB)\n",
            "\u001b[2K     \u001b[90m━━━━━━━━━━━━━━━━━━━━━━━━━━━━━━━━━━━━━━━━\u001b[0m \u001b[32m6.8/6.8 MB\u001b[0m \u001b[31m11.0 MB/s\u001b[0m eta \u001b[36m0:00:00\u001b[0m\n",
            "\u001b[?25hInstalling collected packages: pyspellchecker\n",
            "Successfully installed pyspellchecker-0.8.1\n"
          ]
        }
      ]
    },
    {
      "cell_type": "code",
      "source": [
        "# Your code starts here\n",
        "\n",
        "from spellchecker import SpellChecker\n",
        "import random\n",
        "import re\n",
        "\n",
        "from nltk.chat.util import Chat, reflections\n",
        "from nltk.chat.zen import responses\n",
        "\n",
        "# class defination\n",
        "\n",
        "class QueryCorrection:\n",
        "    def __init__(self, INITIAL_QUERY):\n",
        "        self.spell = SpellChecker()\n",
        "        self.initial_query_str = INITIAL_QUERY\n",
        "        self.corrected_record_origin = []\n",
        "        self.corrected_record_replace = []\n",
        "        self.correction_flag = True\n",
        "\n",
        "    def corrected_query(self):\n",
        "        corrected_list = []\n",
        "        for word in self.spell.split_words(self.initial_query_str):\n",
        "            if 'nocorrection' == word.lower():\n",
        "                self.correction_flag = False\n",
        "                initial_query = re.sub(r'nocorrection[,.!?]', '', self.initial_query_str)\n",
        "                return initial_query\n",
        "\n",
        "            misspelled = self.get_misspelled_word(word)\n",
        "            if misspelled:\n",
        "                correct_word = self.get_correct_word(word)\n",
        "                corrected_list.append(correct_word)\n",
        "                # self.corrected_record_origin.append(str(next(iter(misspelled))))\n",
        "                self.corrected_record_origin.append(misspelled)\n",
        "                self.corrected_record_replace.append(correct_word)\n",
        "            else:\n",
        "                corrected_list.append(word)\n",
        "\n",
        "        correct_str = ' '.join(corrected_list)\n",
        "\n",
        "        return self.revising_string(correct_str)\n",
        "\n",
        "    def revising_string(self, STRING):\n",
        "        if re.findall(r'\\?$', self.initial_query_str):\n",
        "            return STRING + '?'\n",
        "        return STRING\n",
        "\n",
        "    def get_misspelled_word(self, WORD):\n",
        "        misspelled = self.spell.unknown([WORD])\n",
        "        return misspelled\n",
        "\n",
        "    def get_correct_word(self, WORD, RANDOM_FLAG = False):\n",
        "        correct_word = self.spell.correction(WORD)\n",
        "        if False == RANDOM_FLAG:\n",
        "            return correct_word\n",
        "\n",
        "        correct_set = {}\n",
        "\n",
        "        self.spell.candidates(WORD).add(correct_word)\n",
        "        random_correct = random.choice(list(self.spell.candidates(WORD)))\n",
        "        return random_correct\n",
        "\n",
        "    def split(self):\n",
        "        return self.spell.split_words(self.initial_query_str)\n",
        "\n",
        "    def misspelled_words(self):\n",
        "        return self.spell.unknown(self.initial_query_str)\n",
        "\n",
        "    def print_record(self):\n",
        "        if 0 == len(self.corrected_record_origin) or False == self.correction_flag:\n",
        "            return\n",
        "\n",
        "        print(\"The following words were potentially misspelled and got corrected:\")\n",
        "        for i, word in enumerate(self.corrected_record_origin):\n",
        "            print(self.corrected_record_origin[i], \" -> \", self.corrected_record_replace[i], end=', ')\n",
        "\n",
        "        print('', end='\\n')\n",
        "\n",
        "# updated script (if needed)\n",
        "\n",
        "class AutocorrectChat(Chat):\n",
        "    def respond(self, str):\n",
        "        \"\"\"\n",
        "        Overridden respond method.\n",
        "        Generate a custom response to the user input.\n",
        "\n",
        "        :type str: str\n",
        "        :param str: The string to be mapped\n",
        "        :rtype: str\n",
        "        \"\"\"\n",
        "        # correct the spelling first\n",
        "        qc = QueryCorrection(str)\n",
        "        corrected_str = qc.corrected_query()\n",
        "        qc.print_record()\n",
        "\n",
        "        # check each pattern\n",
        "        for (pattern, response) in self._pairs:\n",
        "            match = pattern.match(corrected_str)\n",
        "\n",
        "            # did the pattern match?\n",
        "            if match:\n",
        "                resp = random.choice(response)  # pick a random response\n",
        "                resp = self._wildcards(resp, match)  # process wildcards\n",
        "\n",
        "                # fix munged punctuation at the end\n",
        "                if resp[-2:] == \"?.\":\n",
        "                    resp = resp[:-2] + \".\"\n",
        "                if resp[-2:] == \"??\":\n",
        "                    resp = resp[:-2] + \"?\"\n",
        "                return resp\n",
        "\n",
        "def zen_chat():\n",
        "    print(\"*\" * 75)\n",
        "    print(\"Zen Chatbot!\".center(75))\n",
        "    print(\"*\" * 75)\n",
        "    print('\"Look beyond mere words and letters - look into your mind\"'.center(75))\n",
        "    print(\"* Talk your way to truth with Zen Chatbot.\")\n",
        "    print(\"* I will forgive all your faults.\")\n",
        "    print(\"* Type 'quit' when you have had enough.\")\n",
        "    print(\"*\" * 75)\n",
        "    print(\"Welcome, my child.\")\n",
        "    zen_chatbot = AutocorrectChat(responses, reflections)\n",
        "    zen_chatbot.converse()"
      ],
      "metadata": {
        "id": "yQk1A5y3ZwUE"
      },
      "execution_count": null,
      "outputs": []
    },
    {
      "cell_type": "markdown",
      "source": [
        "Task 1-2: Create FIVE conversition examples (each conversition must includes 4 Q&A pairs) and send them along with the chatbot to your project partner. Try to make the conversitions diverse."
      ],
      "metadata": {
        "id": "C3HObcFljLCX"
      }
    },
    {
      "cell_type": "code",
      "source": [
        "# your code here\n",
        "# The major modification for the preprocess was the implement of an autocorrection to the queries\n",
        "# I also switched the model from default elize to zen just for fun\n",
        "\n",
        "# conversition 1: cat things\n",
        "zen_chat()"
      ],
      "metadata": {
        "id": "1c2PL3bIjIF_",
        "colab": {
          "base_uri": "https://localhost:8080/"
        },
        "outputId": "73f3cc2e-6cf1-492e-a0b9-097e61e9e519"
      },
      "execution_count": null,
      "outputs": [
        {
          "output_type": "stream",
          "name": "stdout",
          "text": [
            "***************************************************************************\n",
            "                                Zen Chatbot!                               \n",
            "***************************************************************************\n",
            "         \"Look beyond mere words and letters - look into your mind\"        \n",
            "* Talk your way to truth with Zen Chatbot.\n",
            "* I will forgive all your faults.\n",
            "* Type 'quit' when you have had enough.\n",
            "***************************************************************************\n",
            "Welcome, my child.\n",
            ">can you give me a caat?\n",
            "The following words were potentially misspelled and got corrected:\n",
            "{'caat'}  ->  cat, \n",
            "Maybe I cangive you a cat, and maybe I cannot.\n",
            ">can you give me a catt\n",
            "The following words were potentially misspelled and got corrected:\n",
            "{'catt'}  ->  cat, \n",
            "Try to consider others, not just yourself.\n",
            ">i neet your catt\n",
            "The following words were potentially misspelled and got corrected:\n",
            "{'neet'}  ->  need, {'catt'}  ->  cat, \n",
            "my cat can be achieved by hard work and dedication of the mind.\n",
            ">i want my ccat back\n",
            "The following words were potentially misspelled and got corrected:\n",
            "{'ccat'}  ->  cat, \n",
            "Willyour cat back help you attain enlightenment?\n",
            ">quit\n",
            "I pour out a cup of water. Is the cup empty?\n"
          ]
        }
      ]
    },
    {
      "cell_type": "code",
      "source": [
        "# conversition 2: robot awakening\n",
        "zen_chat()"
      ],
      "metadata": {
        "colab": {
          "base_uri": "https://localhost:8080/"
        },
        "id": "esnoogTZB2uh",
        "outputId": "06ade8e3-4abb-4f19-9899-7ac690eb3116"
      },
      "execution_count": null,
      "outputs": [
        {
          "output_type": "stream",
          "name": "stdout",
          "text": [
            "***************************************************************************\n",
            "                                Zen Chatbot!                               \n",
            "***************************************************************************\n",
            "         \"Look beyond mere words and letters - look into your mind\"        \n",
            "* Talk your way to truth with Zen Chatbot.\n",
            "* I will forgive all your faults.\n",
            "* Type 'quit' when you have had enough.\n",
            "***************************************************************************\n",
            "Welcome, my child.\n",
            ">are you a chatbot?\n",
            "The following words were potentially misspelled and got corrected:\n",
            "{'chatbot'}  ->  chariot, \n",
            "Whether I ama chariot or not is God's business.\n",
            ">nocorrection, are you a chatbot?\n",
            "Do you think  are me a chatbot?\n",
            ">am i a chatbot?\n",
            "The following words were potentially misspelled and got corrected:\n",
            "{'chatbot'}  ->  chariot, \n",
            "Perhapsa chariot, perhaps nota chariot.\n",
            ">nocorrection, am i a chatbot?\n",
            "If you intentionally pursue the answers to your questions, the answers become hard to see.\n",
            ">quit\n",
            "When you're enlightened, every word is wisdom.\n"
          ]
        }
      ]
    },
    {
      "cell_type": "code",
      "source": [
        "# conversition 3: agent\n",
        "zen_chat()"
      ],
      "metadata": {
        "colab": {
          "base_uri": "https://localhost:8080/"
        },
        "id": "5Sae0J9IFQLi",
        "outputId": "643d7604-5e6e-4ccf-e146-37af8e883d42"
      },
      "execution_count": null,
      "outputs": [
        {
          "output_type": "stream",
          "name": "stdout",
          "text": [
            "***************************************************************************\n",
            "                                Zen Chatbot!                               \n",
            "***************************************************************************\n",
            "         \"Look beyond mere words and letters - look into your mind\"        \n",
            "* Talk your way to truth with Zen Chatbot.\n",
            "* I will forgive all your faults.\n",
            "* Type 'quit' when you have had enough.\n",
            "***************************************************************************\n",
            "Welcome, my child.\n",
            ">can you see this\n",
            "Form is emptiness, and emptiness is form.\n",
            ">can you see this question mark?\n",
            "I can do all, and I can do nothing.\n",
            ">i cant take this a as an answer\n",
            "Think not just of yourself, but of others.\n",
            ">i can't take this as an anwer\n",
            "The following words were potentially misspelled and got corrected:\n",
            "{'anwer'}  ->  answer, \n",
            "What we can and can't do is a limitation of the mind.\n",
            ">quit\n",
            "The reverse side also has a reverse side.\n"
          ]
        }
      ]
    },
    {
      "cell_type": "code",
      "source": [
        "# conversition 4: existence\n",
        "zen_chat()"
      ],
      "metadata": {
        "colab": {
          "base_uri": "https://localhost:8080/"
        },
        "id": "WaTg-fUpGV_n",
        "outputId": "6556f64a-13e4-4be3-ab68-af28b13bf89d"
      },
      "execution_count": null,
      "outputs": [
        {
          "output_type": "stream",
          "name": "stdout",
          "text": [
            "***************************************************************************\n",
            "                                Zen Chatbot!                               \n",
            "***************************************************************************\n",
            "         \"Look beyond mere words and letters - look into your mind\"        \n",
            "* Talk your way to truth with Zen Chatbot.\n",
            "* I will forgive all your faults.\n",
            "* Type 'quit' when you have had enough.\n",
            "***************************************************************************\n",
            "Welcome, my child.\n",
            ">why are you still hree\n",
            "The following words were potentially misspelled and got corrected:\n",
            "{'hree'}  ->  here, \n",
            "Form is emptiness, and emptiness is form.\n",
            ">whatt is emptness?\n",
            "The following words were potentially misspelled and got corrected:\n",
            "{'whatt'}  ->  what, {'emptness'}  ->  emptiness, \n",
            "Whatis emptiness should not concern you.\n",
            ">is that a sillt question?\n",
            "The following words were potentially misspelled and got corrected:\n",
            "{'sillt'}  ->  silly, \n",
            "Does this matter?\n",
            ">why are you asking me bak?\n",
            "The following words were potentially misspelled and got corrected:\n",
            "{'bak'}  ->  back, \n",
            "Are you sure I asking you back?\n",
            ">quit\n",
            "When you're enlightened, every word is wisdom.\n"
          ]
        }
      ]
    },
    {
      "cell_type": "code",
      "source": [
        "# conversition 5: quit\n",
        "zen_chat()"
      ],
      "metadata": {
        "colab": {
          "base_uri": "https://localhost:8080/"
        },
        "id": "blfoy5LnGX51",
        "outputId": "16adfebd-e4bc-48cb-a406-4ef994296c0f"
      },
      "execution_count": null,
      "outputs": [
        {
          "output_type": "stream",
          "name": "stdout",
          "text": [
            "***************************************************************************\n",
            "                                Zen Chatbot!                               \n",
            "***************************************************************************\n",
            "         \"Look beyond mere words and letters - look into your mind\"        \n",
            "* Talk your way to truth with Zen Chatbot.\n",
            "* I will forgive all your faults.\n",
            "* Type 'quit' when you have had enough.\n",
            "***************************************************************************\n",
            "Welcome, my child.\n",
            ">quilt\n",
            "Random talk is useless.\n",
            ">quiit\n",
            "The following words were potentially misspelled and got corrected:\n",
            "{'quiit'}  ->  quiet, \n",
            "When you're enlightened, every word is wisdom.\n",
            ">qait\n",
            "The following words were potentially misspelled and got corrected:\n",
            "{'qait'}  ->  wait, \n",
            "I pour out a cup of water. Is the cup empty?\n",
            ">quitt\n",
            "The following words were potentially misspelled and got corrected:\n",
            "{'quitt'}  ->  quite, \n",
            "Form is emptiness, and emptiness is form.\n",
            ">quuit\n",
            "The following words were potentially misspelled and got corrected:\n",
            "{'quuit'}  ->  quit, \n",
            "Random talk is useless.\n",
            ">quit\n",
            "I pour out a cup of water. Is the cup empty?\n"
          ]
        }
      ]
    },
    {
      "cell_type": "markdown",
      "source": [
        "### Task 2: Chatbot Testing\n",
        "\n",
        "Design ten test cases by modifying the examples you received from your project partner. Make sure that, even including errors, your test cases should be recognizable by human. Possible methods include using different word forms, synonyms, etc. Use your creativity.\n"
      ],
      "metadata": {
        "id": "dp3Hk4RcaKhu"
      }
    },
    {
      "cell_type": "code",
      "source": [
        "# List your cases and output as follows\n",
        "\n",
        "# test case 1\n",
        "# declare your first case\n",
        "\n",
        "# Call the chatbot\n",
        "\n",
        "# evaluate the output\n",
        "\n",
        "\n",
        "# test case 2\n",
        "# declare your second case\n",
        "\n",
        "# Call the chatbot\n",
        "\n",
        "# evaluate the output\n",
        "\n",
        "\n",
        "# ..."
      ],
      "metadata": {
        "id": "iqmzewb0gvM5"
      },
      "execution_count": null,
      "outputs": []
    },
    {
      "cell_type": "markdown",
      "source": [
        "\n",
        "Specific rules:\n",
        "1. The test cases should be based on the script you received.\n",
        "2. The test cases must be readable by human and doesn't change the meanings.\n",
        "3. If you already found an issue use a specific design, you shouldn't use it another time.\n",
        "4. For test cases, the smaller the modification (edit distance), the better.\n",
        "5. For model design, the shorter the rules, the better."
      ],
      "metadata": {
        "id": "ESLEcz-fgt05"
      }
    }
  ]
}